{
 "cells": [
  {
   "cell_type": "markdown",
   "id": "496c59dd",
   "metadata": {},
   "source": [
    "# PREPARE DATA FOR ANALYSIS"
   ]
  },
  {
   "cell_type": "markdown",
   "id": "3671540d",
   "metadata": {},
   "source": [
    "Load in data; prepare reused parameters"
   ]
  },
  {
   "cell_type": "code",
   "execution_count": 1,
   "id": "d368c593",
   "metadata": {
    "vscode": {
     "languageId": "r"
    }
   },
   "outputs": [
    {
     "name": "stderr",
     "output_type": "stream",
     "text": [
      "Lade n\"otiges Paket: Matrix\n",
      "\n",
      "\n",
      "Attache Paket: 'lmerTest'\n",
      "\n",
      "\n",
      "Das folgende Objekt ist maskiert 'package:lme4':\n",
      "\n",
      "    lmer\n",
      "\n",
      "\n",
      "Das folgende Objekt ist maskiert 'package:stats':\n",
      "\n",
      "    step\n",
      "\n",
      "\n",
      "Welcome to emmeans.\n",
      "Caution: You lose important information if you filter this package's results.\n",
      "See '? untidy'\n",
      "\n",
      "-- \u001b[1mAttaching core tidyverse packages\u001b[22m ------------------------ tidyverse 2.0.0 --\n",
      "\u001b[32mv\u001b[39m \u001b[34mdplyr    \u001b[39m 1.1.4     \u001b[32mv\u001b[39m \u001b[34mreadr    \u001b[39m 2.1.5\n",
      "\u001b[32mv\u001b[39m \u001b[34mforcats  \u001b[39m 1.0.0     \u001b[32mv\u001b[39m \u001b[34mstringr  \u001b[39m 1.5.1\n",
      "\u001b[32mv\u001b[39m \u001b[34mggplot2  \u001b[39m 3.5.2     \u001b[32mv\u001b[39m \u001b[34mtibble   \u001b[39m 3.3.0\n",
      "\u001b[32mv\u001b[39m \u001b[34mlubridate\u001b[39m 1.9.4     \u001b[32mv\u001b[39m \u001b[34mtidyr    \u001b[39m 1.3.1\n",
      "\u001b[32mv\u001b[39m \u001b[34mpurrr    \u001b[39m 1.1.0     \n",
      "-- \u001b[1mConflicts\u001b[22m ------------------------------------------ tidyverse_conflicts() --\n",
      "\u001b[31mx\u001b[39m \u001b[34mtidyr\u001b[39m::\u001b[32mexpand()\u001b[39m masks \u001b[34mMatrix\u001b[39m::expand()\n",
      "\u001b[31mx\u001b[39m \u001b[34mdplyr\u001b[39m::\u001b[32mfilter()\u001b[39m masks \u001b[34mstats\u001b[39m::filter()\n",
      "\u001b[31mx\u001b[39m \u001b[34mdplyr\u001b[39m::\u001b[32mlag()\u001b[39m    masks \u001b[34mstats\u001b[39m::lag()\n",
      "\u001b[31mx\u001b[39m \u001b[34mtidyr\u001b[39m::\u001b[32mpack()\u001b[39m   masks \u001b[34mMatrix\u001b[39m::pack()\n",
      "\u001b[31mx\u001b[39m \u001b[34mtidyr\u001b[39m::\u001b[32munpack()\u001b[39m masks \u001b[34mMatrix\u001b[39m::unpack()\n",
      "\u001b[36mi\u001b[39m Use the conflicted package (\u001b[3m\u001b[34m<http://conflicted.r-lib.org/>\u001b[39m\u001b[23m) to force all conflicts to become errors\n",
      "installiere auch Abh\"angigkeiten 'lazyeval', 'diffobj', 'rex', 'brio', 'waldo', 'covr', 'testthat'\n",
      "\n",
      "\n",
      "Warning message in install.packages(\"svglite\", dependencies = TRUE):\n",
      "\"Installation des Pakets 'lazyeval' hatte Exit-Status ungleich 0\"\n",
      "Warning message in install.packages(\"svglite\", dependencies = TRUE):\n",
      "\"Installation des Pakets 'diffobj' hatte Exit-Status ungleich 0\"\n",
      "Warning message in install.packages(\"svglite\", dependencies = TRUE):\n",
      "\"Installation des Pakets 'brio' hatte Exit-Status ungleich 0\"\n",
      "Warning message in install.packages(\"svglite\", dependencies = TRUE):\n",
      "\"Installation des Pakets 'svglite' hatte Exit-Status ungleich 0\"\n",
      "Warning message in install.packages(\"svglite\", dependencies = TRUE):\n",
      "\"Installation des Pakets 'rex' hatte Exit-Status ungleich 0\"\n",
      "Warning message in install.packages(\"svglite\", dependencies = TRUE):\n",
      "\"Installation des Pakets 'waldo' hatte Exit-Status ungleich 0\"\n",
      "Warning message in install.packages(\"svglite\", dependencies = TRUE):\n",
      "\"Installation des Pakets 'covr' hatte Exit-Status ungleich 0\"\n",
      "Warning message in install.packages(\"svglite\", dependencies = TRUE):\n",
      "\"Installation des Pakets 'testthat' hatte Exit-Status ungleich 0\"\n",
      "Aktualisiere HTML-Index der Pakete in '.Library'\n",
      "\n",
      "Making 'packages.html' ...\n",
      " fertig\n",
      "\n"
     ]
    },
    {
     "name": "stdout",
     "output_type": "stream",
     "text": [
      "Failed to install svglite. Trying alternative method...\n"
     ]
    },
    {
     "name": "stderr",
     "output_type": "stream",
     "text": [
      "Warning message in install.packages(\"svglite\", type = \"source\"):\n",
      "\"Installation des Pakets 'svglite' hatte Exit-Status ungleich 0\"\n",
      "Aktualisiere HTML-Index der Pakete in '.Library'\n",
      "\n",
      "Making 'packages.html' ...\n",
      " fertig\n",
      "\n"
     ]
    },
    {
     "name": "stdout",
     "output_type": "stream",
     "text": [
      "Warning: svglite package could not be installed.\n",
      "SVG export may not work. Consider installing manually:\n",
      "install.packages('svglite')\n"
     ]
    }
   ],
   "source": [
    "# Libraries, source function and plotting parameters\n",
    "library(glue)\n",
    "library(lme4)\n",
    "library(lmerTest)\n",
    "library(RColorBrewer)\n",
    "library(ggsignif)\n",
    "library(emmeans)\n",
    "library(broom.mixed)\n",
    "library(tidyverse)\n",
    "\n",
    "# Install and load svglite for SVG export\n",
    "if (!require(\"svglite\", quietly = TRUE)) {\n",
    "  # Try different installation methods\n",
    "  tryCatch({\n",
    "    install.packages(\"svglite\", dependencies = TRUE)\n",
    "    library(svglite)\n",
    "  }, error = function(e) {\n",
    "    cat(\"Failed to install svglite. Trying alternative method...\\n\")\n",
    "    tryCatch({\n",
    "      # Try installing from source\n",
    "      install.packages(\"svglite\", type = \"source\")\n",
    "      library(svglite)\n",
    "    }, error = function(e2) {\n",
    "      cat(\"Warning: svglite package could not be installed.\\n\")\n",
    "      cat(\"SVG export may not work. Consider installing manually:\\n\")\n",
    "      cat(\"install.packages('svglite')\\n\")\n",
    "    })\n",
    "  })\n",
    "} "
   ]
  },
  {
   "cell_type": "code",
   "execution_count": 2,
   "id": "7d867c87",
   "metadata": {
    "tags": [
     "remove_input",
     "remove_output"
    ],
    "vscode": {
     "languageId": "r"
    }
   },
   "outputs": [
    {
     "name": "stderr",
     "output_type": "stream",
     "text": [
      "\u001b[1mRows: \u001b[22m\u001b[34m5260848\u001b[39m \u001b[1mColumns: \u001b[22m\u001b[34m6\u001b[39m\n",
      "\u001b[36m--\u001b[39m \u001b[1mColumn specification\u001b[22m \u001b[36m--------------------------------------------------------\u001b[39m\n",
      "\u001b[1mDelimiter:\u001b[22m \",\"\n",
      "\u001b[31mchr\u001b[39m (4): subject, item, category, channel\n",
      "\u001b[32mdbl\u001b[39m (2): repetition, voltage\n",
      "\n",
      "\u001b[36mi\u001b[39m Use `spec()` to retrieve the full column specification for this data.\n",
      "\u001b[36mi\u001b[39m Specify the column types or set `show_col_types = FALSE` to quiet this message.\n"
     ]
    }
   ],
   "source": [
    "df <- read_csv(\"/Users/johannberger/Documents/thesis/data/2_preprocessed/285-345ms/combined_task-nouns_285-345ms.csv\")\n",
    "electrode <- c(\"FC1\", \"FCz\", \"FC2\", \"FCC1h\", \"FCC2h\", \"C1\", \"Cz\", \"C2\", \"CCP1h\", \"CCP2h\", \"CP1\", \"CPz\", \"CP2\", \"CPP1h\", \"CPP2h\") # nolint: line_length_linter.\n",
    "conditions <- c(\"animal\", \"food\", \"tool\", \"commun\", \"emotion\",\"social\") # nolint\n",
    "\n",
    "plot_colors = c(\n",
    "      \"animal\" = \"#388E3C\",\n",
    "      \"commun\" = \"#d9a00f\",\n",
    "      \"emotion\" = \"#616161\",\n",
    "      \"food\" = \"#1976D2\",\n",
    "      \"social\" = \"#ff00ff\",\n",
    "      \"tool\" = \"#D32F2F\"\n",
    "    )\n"
   ]
  },
  {
   "cell_type": "markdown",
   "id": "5b832201",
   "metadata": {},
   "source": [
    "Define six cumulative data frames, each adding another repetition"
   ]
  },
  {
   "cell_type": "code",
   "execution_count": null,
   "id": "d74900d2",
   "metadata": {
    "tags": [
     "remove_input",
     "remove_output"
    ],
    "vscode": {
     "languageId": "r"
    }
   },
   "outputs": [],
   "source": [
    "# Define data frames\n",
    "df_1 <- df %>%\n",
    "  filter(category %in% conditions,\n",
    "         repetition == 1,\n",
    "         channel %in% electrode) %>%\n",
    "  group_by(item, subject, category, repetition) %>%\n",
    "  summarise(mean_voltage = mean(voltage), .groups = \"drop\") %>%\n",
    "  mutate(\n",
    "    category = factor(category, levels = conditions)\n",
    "  ) %>%\n",
    "  { contrasts(.$category) <- contr.sum(length(conditions)); . }\n",
    "\n",
    "\n",
    "df_1_2 <- df %>%\n",
    "  filter(category   %in% conditions,\n",
    "         repetition %in% 1:2,\n",
    "         channel    %in% electrode) %>%\n",
    "  group_by(item, subject, category, repetition) %>%\n",
    "  summarise(mean_voltage = mean(voltage), .groups = \"drop\") %>%\n",
    "  mutate(\n",
    "    repetition_c = scale(repetition, scale = FALSE)[, 1],\n",
    "    category     = structure(\n",
    "                     factor(category, levels = conditions),\n",
    "                     contrasts = contr.sum(length(conditions))\n",
    "                   )\n",
    "  )\n",
    "\n",
    "df_1_3 <- df %>%\n",
    "  filter(category   %in% conditions,\n",
    "         repetition %in% 1:3,\n",
    "         channel    %in% electrode) %>%\n",
    "  group_by(item, subject, category, repetition) %>%\n",
    "  summarise(mean_voltage = mean(voltage), .groups = \"drop\") %>%\n",
    "  mutate(\n",
    "    repetition_c = scale(repetition, scale = FALSE)[, 1],\n",
    "    category     = structure(\n",
    "                     factor(category, levels = conditions),\n",
    "                     contrasts = contr.sum(length(conditions))\n",
    "                   )\n",
    "  )\n",
    "\n",
    "df_1_4 <- df %>%\n",
    "  filter(category   %in% conditions,\n",
    "         repetition %in% 1:4,\n",
    "         channel    %in% electrode) %>%\n",
    "  group_by(item, subject, category, repetition) %>%\n",
    "  summarise(mean_voltage = mean(voltage), .groups = \"drop\") %>%\n",
    "  mutate(\n",
    "    repetition_c = scale(repetition, scale = FALSE)[, 1],\n",
    "    category     = structure(\n",
    "                     factor(category, levels = conditions),\n",
    "                     contrasts = contr.sum(length(conditions))\n",
    "                   )\n",
    "  )\n",
    "\n",
    "df_1_5 <- df %>%\n",
    "  filter(category   %in% conditions,\n",
    "         repetition %in% 1:5,\n",
    "         channel    %in% electrode) %>%\n",
    "  group_by(item, subject, category, repetition) %>%\n",
    "  summarise(mean_voltage = mean(voltage), .groups = \"drop\") %>%\n",
    "  mutate(\n",
    "    repetition_c = scale(repetition, scale = FALSE)[, 1],\n",
    "    category     = structure(\n",
    "                     factor(category, levels = conditions),\n",
    "                     contrasts = contr.sum(length(conditions))\n",
    "                   )\n",
    "  )\n",
    "\n",
    "df_1_6 <- df %>%\n",
    "  filter(category   %in% conditions,\n",
    "         repetition %in% 1:6,\n",
    "         channel    %in% electrode) %>%\n",
    "  group_by(item, subject, category, repetition) %>%\n",
    "  summarise(mean_voltage = mean(voltage), .groups = \"drop\") %>%\n",
    "  mutate(\n",
    "    repetition_c = scale(repetition, scale = FALSE)[, 1],\n",
    "    category     = structure(\n",
    "                     factor(category, levels = conditions),\n",
    "                     contrasts = contr.sum(length(conditions))\n",
    "                   )\n",
    "  )\n"
   ]
  },
  {
   "cell_type": "markdown",
   "id": "f80fd06d",
   "metadata": {},
   "source": [
    "# MODEL SELECTION"
   ]
  },
  {
   "cell_type": "markdown",
   "id": "3a3e7b64",
   "metadata": {},
   "source": [
    "## Fitting four different models for the cumulative repetitions to see which one fits each subset the best"
   ]
  },
  {
   "cell_type": "code",
   "execution_count": null,
   "id": "d85d0b3b",
   "metadata": {
    "tags": [
     "remove_output"
    ],
    "vscode": {
     "languageId": "r"
    }
   },
   "outputs": [],
   "source": [
    "# Define Models\n",
    "# REPETITION 1\n",
    "mdl1_df1 <- lmer(mean_voltage ~ category + (1 | subject) + (1 | item), # This Model is used\n",
    "                 data = df_1)\n",
    "\n",
    "\n",
    "# REPETITION 1 + 2\n",
    "mdl1_df1_2 <- lmer(mean_voltage ~ category + (1 | subject) + (1 | item), # This Model is used\n",
    "                   data = df_1_2)\n",
    "mdl2_df1_2 <- lmer(mean_voltage ~ category + repetition_c + (1 | subject) + (1 | item),\n",
    "                   data = df_1_2)\n",
    "mdl3_df1_2 <- lmer(mean_voltage ~ category * repetition_c + (1 | subject) + (1 | item),\n",
    "                   data = df_1_2)\n",
    "mdl4_df1_2 <- lmer(mean_voltage ~ category * repetition_c + (1 + repetition_c || subject) + (1 | item),\n",
    "                   data = df_1_2)\n",
    "anova(mdl1_df1_2, mdl2_df1_2, mdl3_df1_2, mdl4_df1_2)\n",
    "\n",
    "\n",
    "# REPETITION 1 + 2 + 3\n",
    "mdl1_df1_3 <- lmer(mean_voltage ~ category + (1 | subject) + (1 | item),\n",
    "                   data = df_1_3)\n",
    "mdl2_df1_3 <- lmer(mean_voltage ~ category + repetition_c + (1 | subject) + (1 | item), # This Model is used\n",
    "                   data = df_1_3)\n",
    "mdl3_df1_3 <- lmer(mean_voltage ~ category * repetition_c + (1 | subject) + (1 | item),\n",
    "                   data = df_1_3)\n",
    "mdl4_df1_3 <- lmer(mean_voltage ~ category * repetition_c + (1 + repetition_c || subject) + (1 | item),\n",
    "                   data = df_1_3)\n",
    "anova(mdl1_df1_3, mdl2_df1_3, mdl3_df1_3, mdl4_df1_3)\n",
    "\n",
    "\n",
    "# REPETITION 1 + 2 + 3 + 4\n",
    "mdl1_df1_4 <- lmer(mean_voltage ~ category + (1 | subject) + (1 | item),\n",
    "                  data = df_1_4)\n",
    "mdl2_df1_4 <- lmer(mean_voltage ~ category + repetition_c + (1 | subject) + (1 | item),\n",
    "                  data = df_1_4)\n",
    "mdl3_df1_4 <- lmer(mean_voltage ~ category * repetition_c + (1 | subject) + (1 | item),\n",
    "                  data = df_1_4)\n",
    "mdl4_df1_4 <- lmer(mean_voltage ~ category * repetition_c + (1 + repetition_c || subject) + (1 | item), # This Model is used\n",
    "                  data = df_1_4)\n",
    "anova(mdl1_df1_4, mdl2_df1_4, mdl3_df1_4, mdl4_df1_4)\n",
    "\n",
    "\n",
    "# REPETITION 1 + 2 + 3 + 4 + 5\n",
    "mdl1_df1_5 <- lmer(mean_voltage ~ category + (1 | subject) + (1 | item),\n",
    "                  data = df_1_5)\n",
    "mdl2_df1_5 <- lmer(mean_voltage ~ category + repetition_c + (1 | subject) + (1 | item),\n",
    "                  data = df_1_5)\n",
    "mdl3_df1_5 <- lmer(mean_voltage ~ category * repetition_c + (1 | subject) + (1 | item),\n",
    "                  data = df_1_5)\n",
    "mdl4_df1_5 <- lmer(mean_voltage ~ category * repetition_c + (1 + repetition_c || subject) + (1 | item), # This Model is used\n",
    "                  data = df_1_5)\n",
    "anova(mdl1_df1_5, mdl2_df1_5, mdl3_df1_5, mdl4_df1_5)\n",
    "\n",
    "\n",
    "# REPETITION 1 + 2 + 3 + 4 + 5 + 6\n",
    "mdl1_df1_6 <- lmer(mean_voltage ~ category + (1 | subject) + (1 | item),\n",
    "                  data = df_1_6)\n",
    "mdl2_df1_6 <- lmer(mean_voltage ~ category + repetition_c + (1 | subject) + (1 | item),\n",
    "                  data = df_1_6)\n",
    "mdl3_df1_6 <- lmer(mean_voltage ~ category * repetition_c + (1 | subject) + (1 | item),\n",
    "                  data = df_1_6)\n",
    "mdl4_df1_6 <- lmer(mean_voltage ~ category * repetition_c + (1 + repetition_c || subject) + (1 | item), # This Model is used\n",
    "                  data = df_1_6)\n",
    "anova(mdl1_df1_6, mdl2_df1_6, mdl3_df1_6, mdl4_df1_6)\n",
    "\n"
   ]
  },
  {
   "cell_type": "markdown",
   "id": "c0b03102",
   "metadata": {},
   "source": [
    "Best-fitting model for each data subset (1–6 repetitions),\n",
    "based on improvements in log-likelihood (lower AIC/BIC, significant Chi-square).\n",
    "\n",
    "| Data Frame | Best Model        | Justification                                                                 |\n",
    "|------------|-------------------|------------------------------------------------------------------------------|\n",
    "| `df_1`     | `mdl1_df1`        | Only one repetition, no `repetition_c` possible — base model is sufficient. |\n",
    "| `df_1_2`   | `mdl1_df1_2`      | No meaningful gain from adding repetition terms (`p > 0.2` in all models).  |\n",
    "| `df_1_3`   | `mdl2_df1_3`      | Slight AIC/BIC improvement; marginal effect of repetition (`p = 0.08`).     |\n",
    "| `f_1_4`    | `mdl4_f1_4`       | Strong improvement with random slope (`p < 0.001`).                          |\n",
    "| `f_1_5`    | `mdl4_f1_5`       | Significant interaction/random slope effect (`p < 0.00001`).                |\n",
    "| `f_1_6`    | `mdl4_f1_6`       | Best model by far (`p < 0.000001`, much lower AIC/BIC).                     |\n",
    "\n",
    "\n",
    "---"
   ]
  },
  {
   "cell_type": "markdown",
   "id": "40c79a18",
   "metadata": {},
   "source": [
    "## Choosing the model and investigate main effect of category"
   ]
  },
  {
   "cell_type": "code",
   "execution_count": null,
   "id": "4998788a",
   "metadata": {
    "vscode": {
     "languageId": "r"
    }
   },
   "outputs": [],
   "source": [
    "# Main Models\n",
    "mdl1 <- mdl1_df1\n",
    "mdl1_2 <- mdl1_df1_2 # Best model for 1-2 repetitions\n",
    "mdl1_3 <- mdl2_df1_3 # Best model for 1-3 repetitions\n",
    "mdl1_4 <- mdl4_df1_4 # Best model for 1-4 repetitions\n",
    "mdl1_5 <- mdl4_df1_5 # Best model for 1-5 repetitions\n",
    "mdl1_6 <- mdl4_df1_6 # Best model for 1-6 repetitions"
   ]
  },
  {
   "cell_type": "markdown",
   "id": "71d506af",
   "metadata": {},
   "source": [
    "# ANALYSIS"
   ]
  },
  {
   "cell_type": "markdown",
   "id": "9078645f",
   "metadata": {},
   "source": [
    "## Main effect of category"
   ]
  },
  {
   "cell_type": "code",
   "execution_count": null,
   "id": "ae151f0b",
   "metadata": {
    "vscode": {
     "languageId": "r"
    }
   },
   "outputs": [],
   "source": [
    "# ANOVA for each model\n",
    "anova(mdl1, type = 3)\n",
    "anova(mdl1_2, type = 3)\n",
    "anova(mdl1_3, type = 3)\n",
    "anova(mdl1_4, type = 3)\n",
    "anova(mdl1_5, type = 3)\n",
    "anova(mdl1_6, type = 3)"
   ]
  },
  {
   "cell_type": "markdown",
   "id": "25e42280",
   "metadata": {},
   "source": [
    "### Main Effect of Category Across Repetitions\n",
    "\n",
    "| Repetitions | F value | p-value   | Significant? | Interpretation                                                  |\n",
    "|-------------|---------|-----------|--------------|------------------------------------------------------------------|\n",
    "| 1           | 3.26    | 0.0076    | ✅ Yes       | Semantic category already shows a reliable effect.              |\n",
    "| 1–2         | 3.65    | 0.0036    | ✅ Yes       | Slight gain in robustness, but no essential change.             |\n",
    "| 1–3         | 4.12    | 0.0015    | ✅ Yes       | Effect becomes more stable and statistically stronger.          |\n",
    "| 1–4         | 3.61    | 0.0039    | ✅ Yes       | No further improvement beyond 3 repetitions.                    |\n",
    "| 1–5         | 3.49    | 0.0049    | ✅ Yes       | Slight decline in F; no added benefit.                          |\n",
    "| 1–6         | 3.59    | 0.0041    | ✅ Yes       | Effect remains significant, but plateau has clearly been reached.|\n",
    "\n",
    "### (Prelimanary) Conclusion\n",
    "\n",
    "- The **main effect of semantic category is already significant with just 1 repetition**.\n",
    "- **Repetitions 2–3** provide **minor improvements** in statistical strength.\n",
    "- **After 3 repetitions**, the F-statistic **plateaus or slightly declines**, indicating **no substantial gain**.\n",
    "- There is **no evidence that more than 3 repetitions strengthen the category effect**.\n",
    "\n",
    "---"
   ]
  },
  {
   "cell_type": "markdown",
   "id": "5f94ca49",
   "metadata": {},
   "source": [
    "## Pairwise comparisons"
   ]
  },
  {
   "cell_type": "code",
   "execution_count": null,
   "id": "7c377087",
   "metadata": {
    "vscode": {
     "languageId": "r"
    }
   },
   "outputs": [],
   "source": [
    "# Pairwise comparisons for all main models\n",
    "\n",
    "adjustment <- \"none\" # Specify p-value adjustment method (change value here to 'bonferroni', 'tukey', etc.)\n",
    "\n",
    "# Model 1 (1 repetition)\n",
    "emm1 <- emmeans(mdl1, ~ category)\n",
    "pairs1 <- pairs(emm1, adjust = adjustment)\n",
    "cat(\"=== REPETITION 1 ===\\n\")\n",
    "print(pairs1)\n",
    "cat(\"\\n\")\n",
    "\n",
    "# Model 1_2 (1-2 repetitions)\n",
    "emm1_2 <- emmeans(mdl1_2, ~ category)\n",
    "pairs1_2 <- pairs(emm1_2, adjust = adjustment)\n",
    "cat(\"=== REPETITIONS 1-2 ===\\n\")\n",
    "print(pairs1_2)\n",
    "cat(\"\\n\")\n",
    "\n",
    "# Model 1_3 (1-3 repetitions)\n",
    "emm1_3 <- emmeans(mdl1_3, ~ category)\n",
    "pairs1_3 <- pairs(emm1_3, adjust = adjustment)\n",
    "cat(\"=== REPETITIONS 1-3 ===\\n\")\n",
    "print(pairs1_3)\n",
    "cat(\"\\n\")\n",
    "\n",
    "# Model 1_4 (1-4 repetitions)\n",
    "emm1_4 <- emmeans(mdl1_4, ~ category)\n",
    "pairs1_4 <- pairs(emm1_4, adjust = adjustment)\n",
    "cat(\"=== REPETITIONS 1-4 ===\\n\")\n",
    "print(pairs1_4)\n",
    "cat(\"\\n\")\n",
    "\n",
    "# Model 1_5 (1-5 repetitions)\n",
    "emm1_5 <- emmeans(mdl1_5, ~ category)\n",
    "pairs1_5 <- pairs(emm1_5, adjust = adjustment)\n",
    "cat(\"=== REPETITIONS 1-5 ===\\n\")\n",
    "print(pairs1_5)\n",
    "cat(\"\\n\")\n",
    "\n",
    "# Model 1_6 (1-6 repetitions)\n",
    "emm1_6 <- emmeans(mdl1_6, ~ category)\n",
    "pairs1_6 <- pairs(emm1_6, adjust = adjustment)\n",
    "cat(\"=== REPETITIONS 1-6 ===\\n\")\n",
    "print(pairs1_6)\n",
    "cat(\"\\n\")\n",
    "\n",
    "# Summary of significant comparisons across models\n",
    "cat(\"=== SUMMARY OF SIGNIFICANT PAIRWISE COMPARISONS ===\\n\")\n",
    "cat(\"(p < 0.05 after none correction)\\n\\n\")"
   ]
  },
  {
   "cell_type": "code",
   "execution_count": null,
   "id": "399a5017",
   "metadata": {
    "vscode": {
     "languageId": "r"
    }
   },
   "outputs": [],
   "source": [
    "# Extract significant comparisons for each model\n",
    "extract_significant <- function(pairs_result, model_name) {\n",
    "  sig_pairs <- summary(pairs_result) %>%\n",
    "    filter(p.value < 0.05) %>%\n",
    "    select(contrast, estimate, p.value)\n",
    "  \n",
    "  if(nrow(sig_pairs) > 0) {\n",
    "    cat(paste0(model_name, \":\\n\"))\n",
    "    for(i in 1:nrow(sig_pairs)) {\n",
    "      cat(sprintf(\"  %s: Est = %.3f, p = %.4f\\n\", \n",
    "                 sig_pairs$contrast[i], \n",
    "                 sig_pairs$estimate[i], \n",
    "                 sig_pairs$p.value[i]))\n",
    "    }\n",
    "    cat(\"\\n\")\n",
    "  } else {\n",
    "    cat(paste0(model_name, \": No significant pairwise comparisons\\n\\n\"))\n",
    "  }\n",
    "}\n",
    "\n",
    "extract_significant(pairs1, \"Repetition 1\")\n",
    "extract_significant(pairs1_2, \"Repetitions 1-2\")\n",
    "extract_significant(pairs1_3, \"Repetitions 1-3\")\n",
    "extract_significant(pairs1_4, \"Repetitions 1-4\")\n",
    "extract_significant(pairs1_5, \"Repetitions 1-5\")\n",
    "extract_significant(pairs1_6, \"Repetitions 1-6\")"
   ]
  },
  {
   "cell_type": "markdown",
   "id": "951eca79",
   "metadata": {},
   "source": [
    "### Summary\n",
    "\n",
    "#### Table\n",
    "\n",
    "| Rep     |n (uncorrected) |n (bonferroni)| contrasts (left contrast more negative)                             |\n",
    "|---------|----------------|--------------|---------------------------------------------------------------------|\n",
    "| Rep 1   | 4 | 2 | <span style=\"color:red\"><b>t - s, e - s</b></span>, e - f, c - s         |\n",
    "| Rep 1-2 | 4 | 2 | <span style=\"color:red\"><b>t - s, e - s</b></span>, e - c, a - s         |\n",
    "| Rep 1-3 | 5 | 3 | <span style=\"color:red\"><b>a - s, t - s, e - s</b></span>, t - f, t - c  |\n",
    "| Rep 1-4 | 5 | 2 | <span style=\"color:red\"><b>t - s, e - s</b></span>, a - s, t - c         |\n",
    "| Rep 1-5 | 4 | 3 | <span style=\"color:red\"><b>a - s, t - s, e - s</b></span>, t - c         |\n",
    "| Rep 1-6 | 5 | 2 | <span style=\"color:red\"><b>t - s, e - s</b></span>, a - c, a - s, t -c   |\n",
    "\n",
    "#### Conclusion\n",
    "- no real gain after repetition 3\n",
    "- corrected contrasts stay stable after repetition 3 and even loose significance\n",
    "- for uncorrected: animal-communication only becomes significant for rep1-6:\n",
    "    - might hint for an interaction of repetition:category (significant in the main model - 0.02) - semantic categories might be influenced differently after long exposure to visual word presentations\n",
    "    - could also just be noise/random fluctuations (as later repetitions have a smaller SNR)\n",
    "\n"
   ]
  },
  {
   "cell_type": "code",
   "execution_count": null,
   "id": "6bddb4f8",
   "metadata": {
    "vscode": {
     "languageId": "r"
    }
   },
   "outputs": [],
   "source": [
    "# Pairwise comparisons for repetition:category interaction in mdl1_6 (uncorrected)\n",
    "# This explores how category differences change across repetitions\n",
    "\n",
    "# Get estimated marginal means for the interaction\n",
    "emm_interaction <- emmeans(mdl1_6, ~ category * repetition_c)\n",
    "\n",
    "# Pairwise comparisons within each repetition level\n",
    "pairs_by_repetition <- pairs(emm_interaction, by = \"repetition_c\", adjust = \"none\")\n",
    "cat(\"=== CATEGORY COMPARISONS WITHIN EACH REPETITION LEVEL ===\\n\")\n",
    "print(pairs_by_repetition)\n",
    "cat(\"\\n\")\n",
    "\n",
    "# Pairwise comparisons within each category (across repetitions)\n",
    "pairs_by_category <- pairs(emm_interaction, by = \"category\", adjust = \"none\")\n",
    "cat(\"=== REPETITION EFFECTS WITHIN EACH CATEGORY ===\\n\")\n",
    "print(pairs_by_category)\n",
    "cat(\"\\n\")\n",
    "\n",
    "# Simple effects: category differences at specific repetition levels\n",
    "# Note: repetition_c is centered, so we'll look at meaningful levels\n",
    "rep_levels <- c(-2.5, -1.5, -0.5, 0.5, 1.5, 2.5)  # Corresponding to repetitions 1-6\n",
    "simple_effects <- test(emm_interaction, by = \"repetition_c\")\n",
    "cat(\"=== SIMPLE EFFECTS: CATEGORY DIFFERENCES AT EACH REPETITION ===\\n\")\n",
    "print(simple_effects)"
   ]
  },
  {
   "cell_type": "markdown",
   "id": "209ab3ac",
   "metadata": {},
   "source": [
    "# PLOTS"
   ]
  },
  {
   "cell_type": "markdown",
   "id": "1015e86f",
   "metadata": {},
   "source": [
    "## Data and Functions Setup"
   ]
  },
  {
   "cell_type": "code",
   "execution_count": null,
   "id": "1cf3c98c",
   "metadata": {
    "vscode": {
     "languageId": "r"
    }
   },
   "outputs": [],
   "source": [
    "# ========== DATA PREPARATION ==========\n",
    "# Load SNR analysis data exported from Python\n",
    "snr_data <- read_csv(\"/Users/johannberger/Documents/thesis/data/3_analysis/cumulative_snr_data.csv\")\n",
    "f_data <- read_csv(\"/Users/johannberger/Documents/thesis/data/3_analysis/f_values_data.csv\")\n",
    "\n",
    "# Bundle ERP datasets and pairwise objects for systematic plotting\n",
    "erp_datasets <- list(\n",
    "  \"1\"   = list(df = df_1,   pairs = pairs1,   title = \"— Repetition 1\"),\n",
    "  \"1_2\" = list(df = df_1_2, pairs = pairs1_2, title = \"— Repetitions 1-2\"),\n",
    "  \"1_3\" = list(df = df_1_3, pairs = pairs1_3, title = \"— Repetitions 1-3\"),\n",
    "  \"1_4\" = list(df = df_1_4, pairs = pairs1_4, title = \"— Repetitions 1-4\"),\n",
    "  \"1_5\" = list(df = df_1_5, pairs = pairs1_5, title = \"— Repetitions 1-5\"),\n",
    "  \"1_6\" = list(df = df_1_6, pairs = pairs1_6, title = \"— Repetitions 1-6\")\n",
    ")\n",
    "\n",
    "# ========== PLOTTING FUNCTIONS ==========\n",
    "# Core ERP plotting function with significance brackets\n",
    "create_erp_plot <- function(df, pairs_obj, conditions, plot_colors, title_suffix) {\n",
    "  # Summary stats with numeric x positions\n",
    "  mean_se_data <- df %>%\n",
    "    group_by(category) %>%\n",
    "    summarise(\n",
    "      mean_val = mean(mean_voltage),\n",
    "      se = sd(mean_voltage) / sqrt(n()),\n",
    "      .groups = \"drop\"\n",
    "    ) %>%\n",
    "    mutate(x = as.numeric(factor(category, levels = conditions)))\n",
    "  \n",
    "  # Significant contrasts\n",
    "  sig_contrasts <- summary(pairs_obj) %>%\n",
    "    as.data.frame() %>%\n",
    "    filter(p.value < 0.05) %>%\n",
    "    mutate(contrast_clean = str_replace_all(contrast, \" - \", \" vs \")) %>%\n",
    "    extract(contrast, into = c(\"cat1\", \"cat2\"), regex = \"^([^\\\\s-]+) - ([^\\\\s-]+)\") %>%\n",
    "    mutate(\n",
    "      sig_label = case_when(\n",
    "        p.value < 0.001 ~ \"***\",\n",
    "        p.value < 0.01  ~ \"**\", \n",
    "        p.value < 0.05  ~ \"*\",\n",
    "        TRUE            ~ \"\"\n",
    "      )\n",
    "    )\n",
    "  \n",
    "  # Bracket data for significance annotations\n",
    "  bracket_data <- if (nrow(sig_contrasts) > 0) {\n",
    "    base_y <- min(mean_se_data$mean_val - mean_se_data$se) - 0.2\n",
    "    \n",
    "    sig_contrasts %>%\n",
    "      left_join(mean_se_data %>% select(category, mean_val, se, x),\n",
    "                by = c(\"cat1\" = \"category\")) %>%\n",
    "      rename_with(~ paste0(.x, \"_1\"), c(\"mean_val\", \"se\", \"x\")) %>%\n",
    "      left_join(mean_se_data %>% select(category, mean_val, se, x),\n",
    "                by = c(\"cat2\" = \"category\")) %>%\n",
    "      rename_with(~ paste0(.x, \"_2\"), c(\"mean_val\", \"se\", \"x\")) %>%\n",
    "      mutate(\n",
    "        xmin_pos = x_1,\n",
    "        xmax_pos = x_2,\n",
    "        bracket_span = abs(xmax_pos - xmin_pos)\n",
    "      ) %>%\n",
    "      arrange(bracket_span, xmin_pos) %>%\n",
    "      mutate(y_bracket = base_y - (row_number() - 1) * 0.25)\n",
    "  } else {\n",
    "    NULL\n",
    "  }\n",
    "  \n",
    "  # Assemble bracket layers\n",
    "  bracket_layers <- if (!is.null(bracket_data)) {\n",
    "    list(\n",
    "      geom_segment(data = bracket_data,\n",
    "                   aes(x = xmin_pos, xend = xmax_pos, y = y_bracket, yend = y_bracket),\n",
    "                   inherit.aes = FALSE, color = \"black\"),\n",
    "      geom_segment(data = bracket_data,\n",
    "                   aes(x = xmin_pos, xend = xmin_pos, y = y_bracket, yend = y_bracket + 0.05),\n",
    "                   inherit.aes = FALSE, color = \"black\"),\n",
    "      geom_segment(data = bracket_data,\n",
    "                   aes(x = xmax_pos, xend = xmax_pos, y = y_bracket, yend = y_bracket + 0.05),\n",
    "                   inherit.aes = FALSE, color = \"black\"),\n",
    "      geom_text(data = bracket_data,\n",
    "                aes(x = (xmin_pos + xmax_pos)/2, y = y_bracket - 0.05, label = sig_label),\n",
    "                inherit.aes = FALSE, size = 4, hjust = 0.5)\n",
    "    )\n",
    "  } else {\n",
    "    list()\n",
    "  }\n",
    "  \n",
    "  # Build the ggplot object\n",
    "  p <- ggplot(df, aes(x = category, y = mean_voltage, fill = category)) +\n",
    "    stat_summary(fun = mean, geom = \"col\", width = 0.7) +\n",
    "    stat_summary(fun.data = mean_se, geom = \"errorbar\", width = 0.2) +\n",
    "    bracket_layers +\n",
    "    scale_y_reverse() +\n",
    "    scale_fill_manual(values = plot_colors) +\n",
    "    labs(\n",
    "      title = glue(\"Mean ERP amplitude (285–345 ms) · Frontocentral ROI {title_suffix}\"),\n",
    "      x = NULL,\n",
    "      y = \"Mean voltage (\\u03bcV)\",\n",
    "      fill = \"Category\"\n",
    "    ) +\n",
    "    theme(legend.position = \"none\")\n",
    "  \n",
    "  return(p)\n",
    "}"
   ]
  },
  {
   "cell_type": "markdown",
   "id": "d28fd59d",
   "metadata": {},
   "source": [
    "## Plot Settings and Themes"
   ]
  },
  {
   "cell_type": "code",
   "execution_count": null,
   "id": "62f15c9b",
   "metadata": {
    "vscode": {
     "languageId": "r"
    }
   },
   "outputs": [],
   "source": [
    "# ========== PLOT PARAMETERS ==========\n",
    "# Set plot sizes\n",
    "options(repr.plot.width = 10, repr.plot.height = 7)\n",
    "\n",
    "# Define common theme settings\n",
    "base_theme <- theme_minimal(base_size = 14) +\n",
    "  theme(\n",
    "    plot.title = element_text(hjust = 0.5, size = 16),\n",
    "    panel.grid.minor = element_blank(),\n",
    "    legend.position = \"right\",\n",
    "    plot.margin = margin(10, 10, 10, 10)\n",
    "  )\n",
    "\n",
    "# ERP-specific theme modifications\n",
    "erp_theme <- base_theme +\n",
    "  theme(\n",
    "    aspect.ratio = 0.7,\n",
    "    plot.margin = margin(10, 10, 10, 10)\n",
    "  )\n",
    "\n",
    "# SNR plot theme\n",
    "snr_theme <- base_theme +\n",
    "  theme(\n",
    "    panel.grid.major.x = element_line(color = \"grey90\", linetype = \"dashed\"),\n",
    "  )\n",
    "\n",
    "# F-value plot theme  \n",
    "f_theme <- base_theme +\n",
    "  theme(\n",
    "    panel.grid.major.x = element_blank()\n",
    "  )\n",
    "\n",
    "# Line plot theme (for repetition trends)\n",
    "line_theme <- theme_minimal(base_size = 17) +\n",
    "  theme(\n",
    "    plot.title = element_text(hjust = 0.5, size = 18),\n",
    "    legend.position = \"right\"\n",
    "  )"
   ]
  },
  {
   "cell_type": "markdown",
   "id": "ea417889",
   "metadata": {},
   "source": [
    "## Create All Plots"
   ]
  },
  {
   "cell_type": "code",
   "execution_count": null,
   "id": "eae1e327",
   "metadata": {
    "vscode": {
     "languageId": "r"
    }
   },
   "outputs": [],
   "source": [
    "# ========== GENERATE ALL PLOTS ==========\n",
    "\n",
    "# 1. ERP bar plots with significance brackets\n",
    "erp_plots <- imap(erp_datasets, ~ {\n",
    "  create_erp_plot(.x$df, .x$pairs, conditions, plot_colors, .x$title) + erp_theme\n",
    "})\n",
    "\n",
    "# 2. ERP line plot across repetitions (using full dataset)\n",
    "repetition_trend_plot <- ggplot(df_1_6, aes(x = repetition, y = mean_voltage, \n",
    "                                           colour = category, group = category)) +\n",
    "  stat_summary(fun = mean, geom = \"line\", linewidth = 1.2) +\n",
    "  stat_summary(fun = mean, geom = \"point\", size = 2) +\n",
    "  stat_summary(fun.data = mean_se, geom = \"errorbar\", width = 0.2) +\n",
    "  scale_y_reverse() +\n",
    "  scale_color_manual(values = plot_colors) +\n",
    "  line_theme +\n",
    "  theme(legend.position = \"bottom\",\n",
    "        legend.direction = \"horizontal\") +\n",
    "  labs(\n",
    "    title = NULL,\n",
    "    x = NULL,\n",
    "    y = \"Mean voltage (\\u03bcV)\",\n",
    "    colour = \"Category\"\n",
    "  )\n",
    "\n",
    "# 3. Cumulative SNR plot\n",
    "snr_plot <- ggplot(snr_data, aes(x = cumulative_repetitions, y = mean_snr)) +\n",
    "  geom_line(color = \"blue\", size = 1.2) +\n",
    "  geom_point(color = \"blue\", size = 3) +\n",
    "  geom_errorbar(aes(ymin = mean_snr - sem_snr, ymax = mean_snr + sem_snr), \n",
    "                width = 0.2, color = \"blue\") +\n",
    "  geom_text(aes(label = sprintf(\"%.2f\", mean_snr)), \n",
    "            vjust = -0.8, hjust = 0.5, size = 3.5) +\n",
    "  scale_x_continuous(breaks = snr_data$cumulative_repetitions,\n",
    "                     labels = c(\"1\", \"1-2\", \"1-3\", \"1-4\", \"1-5\", \"1-6\")) +\n",
    "  snr_theme +\n",
    "  labs(\n",
    "    title = NULL,\n",
    "    x = \"Cumulative presentations\",\n",
    "    y = \"Mean SNR\"\n",
    "  )\n",
    "\n",
    "# 4. F-value plot\n",
    "f_plot <- ggplot(f_data, aes(x = cumulative_repetitions, y = f_statistic)) +\n",
    "  geom_col(alpha = 0.7, fill = \"red\", width = 0.6) +\n",
    "  geom_text(aes(label = sprintf(\"%.2f\", f_statistic)), \n",
    "            vjust = -0.5, hjust = 0.5, size = 3.5) +\n",
    "  scale_x_continuous(breaks = f_data$cumulative_repetitions,\n",
    "                     labels = c(\"1-2\", \"1-3\", \"1-4\", \"1-5\", \"1-6\")) +\n",
    "  f_theme +\n",
    "  labs(\n",
    "    title = NULL,\n",
    "    x = \"Cumulative presentations\",\n",
    "    y = \"F-value\"\n",
    "  )\n",
    "\n",
    "# 5. Combined SNR and F-value plot (requires patchwork)\n",
    "# library(patchwork)\n",
    "# combined_snr_f_plot <- snr_plot / f_plot + \n",
    "#   plot_annotation(title = \"SNR Analysis Results\", \n",
    "#                   theme = theme(plot.title = element_text(size = 18, hjust = 0.5)))\n",
    "\n",
    "# ========== EXTRACT SPECIFIC ERP PLOTS FOR EASY ACCESS ==========\n",
    "# Extract the two main ERP bar plots for direct manipulation\n",
    "erp_plot_1_3 <- erp_plots[[\"1_3\"]] + labs(title = NULL) + labs(y = \"Mean voltage (\\u03bcV)\") + theme(legend.position = \"none\")\n",
    "erp_plot_1_6 <- erp_plots[[\"1_6\"]] + labs(title = NULL) + labs(y = \"Mean voltage (\\u03bcV)\") + theme(legend.position = \"none\")\n",
    "\n",
    "\n",
    "# ========== DISPLAY PLOTS ==========\n",
    "print(repetition_trend_plot)\n",
    "print(erp_plot_1_3)\n",
    "print(erp_plot_1_6)\n",
    "print(snr_plot)\n",
    "print(f_plot)"
   ]
  },
  {
   "cell_type": "code",
   "execution_count": null,
   "id": "cd51a05e",
   "metadata": {
    "vscode": {
     "languageId": "r"
    }
   },
   "outputs": [],
   "source": [
    "# Alternative plot saving - if svglite fails, save as PDF instead\n",
    "tryCatch({\n",
    "  # Try SVG export first\n",
    "  ggsave(\"/Users/johannberger/Documents/thesis/data/4_plots/repetition_trend_plot.svg\", \n",
    "         plot = repetition_trend_plot, width = 10, height = 7, units = \"in\", device = \"svg\")\n",
    "  cat(\"SVG export successful!\\n\")\n",
    "}, error = function(e) {\n",
    "  # Fallback to PDF if SVG fails\n",
    "  cat(\"SVG export failed, saving as PDF instead...\\n\")\n",
    "  ggsave(\"/Users/johannberger/Documents/thesis/data/4_plots/repetition_trend_plot.pdf\", \n",
    "         plot = repetition_trend_plot, width = 10, height = 7, units = \"in\")\n",
    "  \n",
    "  ggsave(\"/Users/johannberger/Documents/thesis/data/4_plots/erp_plot_1_3.pdf\", \n",
    "         plot = erp_plot_1_3, width = 10, height = 7, units = \"in\")\n",
    "  \n",
    "  ggsave(\"/Users/johannberger/Documents/thesis/data/4_plots/erp_plot_1_6.pdf\", \n",
    "         plot = erp_plot_1_6, width = 10, height = 7, units = \"in\")\n",
    "  \n",
    "  ggsave(\"/Users/johannberger/Documents/thesis/data/4_plots/snr_plot.pdf\", \n",
    "         plot = snr_plot, width = 10, height = 7, units = \"in\")\n",
    "  \n",
    "  ggsave(\"/Users/johannberger/Documents/thesis/data/4_plots/f_plot.pdf\", \n",
    "         plot = f_plot, width = 10, height = 7, units = \"in\")\n",
    "  \n",
    "  cat(\"All plots saved as PDF files instead:\\n\")\n",
    "  cat(\"- repetition_trend_plot.pdf\\n\")\n",
    "  cat(\"- erp_plot_1_3.pdf\\n\") \n",
    "  cat(\"- erp_plot_1_6.pdf\\n\")\n",
    "  cat(\"- snr_plot.pdf\\n\")\n",
    "  cat(\"- f_plot.pdf\\n\")\n",
    "})"
   ]
  },
  {
   "cell_type": "code",
   "execution_count": null,
   "id": "32cedb10",
   "metadata": {
    "vscode": {
     "languageId": "r"
    }
   },
   "outputs": [],
   "source": [
    "# Create interaction plot with linear trend lines for each category\n",
    "# This plot highlights how repetition slopes differ across semantic categories\n",
    "\n",
    "# Create the interaction plot\n",
    "interaction_plot <- ggplot(df_1_6, aes(x = repetition, y = mean_voltage, colour = category)) +\n",
    "  # Individual data points (desaturated)\n",
    "  stat_summary(fun = mean, geom = \"point\", size = 1.5, alpha = 0.4) +\n",
    "  #stat_summary(fun.data = mean_se, geom = \"errorbar\", width = 0.2, alpha = 0.4) +\n",
    "  \n",
    "  # Linear trend lines for each category (prominent)\n",
    "  geom_smooth(method = \"lm\", se = FALSE, linewidth = 1.5, alpha = 0.8) +\n",
    "  \n",
    "  # Styling\n",
    "  scale_y_reverse() +\n",
    "  scale_color_manual(values = plot_colors) +\n",
    "  scale_x_continuous(breaks = 1:6) +\n",
    "  line_theme +\n",
    "  theme(legend.position = \"bottom\",\n",
    "        legend.direction = \"horizontal\") +\n",
    "  labs(\n",
    "    #title = \"Category-Specific Repetition Slopes\",\n",
    "    #subtitle = \"Linear trend lines show different repetition effects across semantic categories\",\n",
    "    x = \"Presentation\",\n",
    "    y = \"Mean voltage (\\u03bcV)\",\n",
    "    colour = \"Category\"\n",
    "  )\n",
    "\n",
    "# Display the plot\n",
    "print(interaction_plot)\n",
    "\n",
    "# Save the plot\n",
    "tryCatch({\n",
    "  ggsave(\"/Users/johannberger/Documents/thesis/data/4_plots/interaction_plot.svg\", \n",
    "         plot = interaction_plot, width = 12, height = 8, units = \"in\", device = \"svg\")\n",
    "  cat(\"Interaction plot saved as SVG!\\n\")\n",
    "}, error = function(e) {\n",
    "  ggsave(\"/Users/johannberger/Documents/thesis/data/4_plots/interaction_plot.pdf\", \n",
    "         plot = interaction_plot, width = 12, height = 8, units = \"in\")\n",
    "  cat(\"Interaction plot saved as PDF instead!\\n\")\n",
    "})"
   ]
  }
 ],
 "metadata": {
  "kernelspec": {
   "display_name": "R (thesis)",
   "language": "R",
   "name": "r-thesis"
  },
  "language_info": {
   "codemirror_mode": "r",
   "file_extension": ".r",
   "mimetype": "text/x-r-source",
   "name": "R",
   "pygments_lexer": "r",
   "version": "4.4.3"
  }
 },
 "nbformat": 4,
 "nbformat_minor": 5
}
